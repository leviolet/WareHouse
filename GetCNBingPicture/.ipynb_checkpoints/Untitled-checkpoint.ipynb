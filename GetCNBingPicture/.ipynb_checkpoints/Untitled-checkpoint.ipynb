{
 "cells": [
  {
   "cell_type": "code",
   "execution_count": null,
   "metadata": {},
   "outputs": [],
   "source": [
    "import requests\n",
    "import pyquery\n",
    "\n",
    "headers = {\n",
    "    'user-agent': r\"Mozilla/5.0 (Windows NT 10.0; Win64; x64) AppleWebKit/537.36 (KHTML, like Gecko) Chrome/83.0.4103.97 Safari/537.36\",\n",
    "    'Accept-Charset': r\"utf-8\"\n",
    "}\n",
    "url = r\"https://3gmfw.cn/article/html2/2020/03/31/519097.html\"\n",
    "\n",
    "r = requests.get(url, headers=headers)\n",
    "\n",
    "s = r.content.decode('gbk')\n",
    "\n",
    "document = pyquery.PyQuery(s)\n",
    "p = document('#mainNewsContent > p:nth-child(6)')\n",
    "print(p.text())\n"
   ]
  },
  {
   "cell_type": "code",
   "execution_count": null,
   "metadata": {},
   "outputs": [],
   "source": []
  }
 ],
 "metadata": {
  "kernelspec": {
   "display_name": "Python 3",
   "language": "python",
   "name": "python3"
  },
  "language_info": {
   "codemirror_mode": {
    "name": "ipython",
    "version": 3
   },
   "file_extension": ".py",
   "mimetype": "text/x-python",
   "name": "python",
   "nbconvert_exporter": "python",
   "pygments_lexer": "ipython3",
   "version": "3.8.3"
  }
 },
 "nbformat": 4,
 "nbformat_minor": 4
}
